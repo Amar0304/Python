{
 "cells": [
  {
   "cell_type": "markdown",
   "metadata": {},
   "source": [
    "### This program is written to find Mean,Median and Mode without using statistics module"
   ]
  },
  {
   "cell_type": "code",
   "execution_count": 8,
   "metadata": {},
   "outputs": [
    {
     "name": "stdout",
     "output_type": "stream",
     "text": [
      "Enter How many inputs you want to enter5\n",
      "50 40 10 30 20\n",
      "Mean for the list given is    30.0\n",
      "Median for the list given is  30.0\n",
      "Mode for the list given is    10.0\n"
     ]
    }
   ],
   "source": [
    "def inputfromUSer():\n",
    "    n=input(\"Enter How many inputs you want to enter\")\n",
    "    lis=[int(i) for i in input().split()]\n",
    "    return lis\n",
    "\n",
    "\n",
    "def mean(lis):\n",
    "    s=sum(lis)\n",
    "    ls=len(lis)\n",
    "    mean=(s/ls)\n",
    "    return mean\n",
    "    \n",
    "\n",
    "def med(lis):\n",
    "    c=len(lis)\n",
    "    fMe=0\n",
    "    sMe=0\n",
    "    su=0\n",
    "    med=0\n",
    "    if c%2==0:\n",
    "        fMe= int(len(lis)/2)-1\n",
    "        sMe=int(len(lis)/2)\n",
    "        su=lis[fMe]+lis[sMe]\n",
    "        med=su/2\n",
    "    else:\n",
    "        sMe=int(len(lis)/2)\n",
    "        med=lis[sMe]\n",
    "    return med\n",
    "\n",
    "def mode(lis):\n",
    "    c=0\n",
    "    num=[0]\n",
    "    for i in lis:\n",
    "        curr=lis.count(i)\n",
    "        if (curr>c):\n",
    "            c=curr\n",
    "            num=i\n",
    "            \n",
    "    return num\n",
    "\n",
    "\n",
    "lis=inputfromUSer()\n",
    "lis=sorted(lis)\n",
    "a=mean(lis)\n",
    "b=med(lis)\n",
    "c=mode(lis)\n",
    "print(\"Mean for the list given is   \",a)\n",
    "print(\"Median for the list given is \",float(b))\n",
    "print(\"Mode for the list given is   \",float(c))"
   ]
  }
 ],
 "metadata": {
  "kernelspec": {
   "display_name": "Python 3",
   "language": "python",
   "name": "python3"
  },
  "language_info": {
   "codemirror_mode": {
    "name": "ipython",
    "version": 3
   },
   "file_extension": ".py",
   "mimetype": "text/x-python",
   "name": "python",
   "nbconvert_exporter": "python",
   "pygments_lexer": "ipython3",
   "version": "3.7.4"
  }
 },
 "nbformat": 4,
 "nbformat_minor": 2
}
