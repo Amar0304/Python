{
 "cells": [
  {
   "cell_type": "code",
   "execution_count": 10,
   "metadata": {},
   "outputs": [
    {
     "name": "stdout",
     "output_type": "stream",
     "text": [
      "Connection Successfull\n",
      "Query executed successfully\n",
      "Query executed successfully\n",
      "[(1, 'James', 25, 'male', 'USA'), (2, 'Leila', 32, 'female', 'France'), (3, 'Brigitte', 35, 'female', 'England'), (4, 'Mike', 40, 'male', 'Denmark'), (5, 'Elizabeth', 21, 'female', 'Canada')]\n"
     ]
    }
   ],
   "source": [
    "import sqlite3\n",
    "from sqlite3 import Error\n",
    "\n",
    "def create_conn(path):\n",
    "    connection=None\n",
    "    \n",
    "    try:\n",
    "        connection=sqlite3.connect(path)\n",
    "        print(\"Connection Successfull\")\n",
    "    except Error as e:\n",
    "        print(f\"The error '{e}' occurred\")\n",
    "    \n",
    "    return connection\n",
    "\n",
    "\n",
    "def execute_query(con,query):\n",
    "    cur=con.cursor()\n",
    "    try:\n",
    "        cur.execute(query)\n",
    "        con.commit()\n",
    "        print(\"Query executed successfully\")\n",
    "    except Error as e:\n",
    "        print(f\"The error as '{e}' occured\")\n",
    "\n",
    "        \n",
    "def execute_read_query(conn,query):\n",
    "    cursor=conn.cursor()\n",
    "    result=None\n",
    "    \n",
    "    try:\n",
    "        cursor.execute(query)\n",
    "        result=cursor.fetchall()\n",
    "        return result\n",
    "    except Error as e:\n",
    "        print(\"The error '{e}' occured\")\n",
    "    \n",
    "    \n",
    "con=create_conn(\"F:\\sqliteDB/mydb.sqllite\")\n",
    "create_users_table = \"\"\"\n",
    "CREATE TABLE IF NOT EXISTS users (\n",
    "  id INTEGER PRIMARY KEY AUTOINCREMENT,\n",
    "  name TEXT NOT NULL,\n",
    "  age INTEGER,\n",
    "  gender TEXT,\n",
    "  nationality TEXT\n",
    ");\n",
    "\"\"\"\n",
    "\n",
    "create_users = \"\"\"\n",
    "INSERT INTO\n",
    "  users (name, age, gender, nationality)\n",
    "VALUES\n",
    "  ('James', 25, 'male', 'USA'),\n",
    "  ('Leila', 32, 'female', 'France'),\n",
    "  ('Brigitte', 35, 'female', 'England'),\n",
    "  ('Mike', 40, 'male', 'Denmark'),\n",
    "  ('Elizabeth', 21, 'female', 'Canada');\n",
    "\"\"\"\n",
    "execute_query(con, create_users_table)\n",
    "execute_query(con, create_users)\n",
    "print(execute_read_query(con, \"select * from users\"))\n",
    "    "
   ]
  }
 ],
 "metadata": {
  "kernelspec": {
   "display_name": "Python 3",
   "language": "python",
   "name": "python3"
  },
  "language_info": {
   "codemirror_mode": {
    "name": "ipython",
    "version": 3
   },
   "file_extension": ".py",
   "mimetype": "text/x-python",
   "name": "python",
   "nbconvert_exporter": "python",
   "pygments_lexer": "ipython3",
   "version": "3.7.4"
  }
 },
 "nbformat": 4,
 "nbformat_minor": 2
}
