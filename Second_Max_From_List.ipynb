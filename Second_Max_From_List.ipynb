{
 "cells": [
  {
   "cell_type": "code",
   "execution_count": 25,
   "metadata": {},
   "outputs": [
    {
     "name": "stdout",
     "output_type": "stream",
     "text": [
      "5\n",
      "2 3 6 6 5\n",
      "<map object at 0x000002973EAF4C88>\n",
      "2\n",
      "3\n",
      "6\n",
      "6\n",
      "5\n",
      "[2, 3, 6, 5]\n",
      "5\n"
     ]
    }
   ],
   "source": [
    "n = int(input())\n",
    "\n",
    "arr=map(int,input().split())\n",
    "\n",
    "print(arr)\n",
    "\n",
    "ar=[]\n",
    "for i in arr:\n",
    "    print(i)\n",
    "    ar.append(i)\n",
    "    \n",
    "print(list(dict.fromkeys(ar)))\n",
    "b=list(dict.fromkeys(ar))\n",
    "b.sort()\n",
    "print(b[-2])"
   ]
  },
  {
   "cell_type": "code",
   "execution_count": null,
   "metadata": {},
   "outputs": [],
   "source": []
  }
 ],
 "metadata": {
  "kernelspec": {
   "display_name": "Python 3",
   "language": "python",
   "name": "python3"
  },
  "language_info": {
   "codemirror_mode": {
    "name": "ipython",
    "version": 3
   },
   "file_extension": ".py",
   "mimetype": "text/x-python",
   "name": "python",
   "nbconvert_exporter": "python",
   "pygments_lexer": "ipython3",
   "version": "3.7.4"
  }
 },
 "nbformat": 4,
 "nbformat_minor": 2
}
